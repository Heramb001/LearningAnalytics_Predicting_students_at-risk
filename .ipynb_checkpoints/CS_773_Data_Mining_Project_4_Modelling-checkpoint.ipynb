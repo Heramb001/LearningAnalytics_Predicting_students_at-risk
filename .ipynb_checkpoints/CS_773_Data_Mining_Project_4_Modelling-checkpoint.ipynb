{
 "cells": [
  {
   "cell_type": "markdown",
   "metadata": {},
   "source": [
    "# CS 773 Data Mining and Security\n",
    "\n",
    "## Course Project - Analyzing Open University Learning Analytics Dataset \n",
    "\n",
    "### Problem Statement \n",
    "\n",
    "Based on the given data of students enrolled in various courses identify the student who is at-risk so that suitable interventions can be taken to help students succeed. \n",
    "\n",
    "***Part-4 : Data Modelling and Prediction***\n",
    "\n",
    "In this part we will try to model the data and predict the student at risk."
   ]
  },
  {
   "cell_type": "code",
   "execution_count": 1,
   "metadata": {},
   "outputs": [],
   "source": [
    "#importing Libraries\n",
    "import numpy as np\n",
    "import pandas as pd\n",
    "import time\n",
    "import matplotlib.pyplot as plt\n",
    "import seaborn as sns\n",
    "%matplotlib inline\n",
    "\n",
    "# ML libraries\n",
    "from sklearn.metrics import accuracy_score\n",
    "from sklearn.model_selection import train_test_split\n",
    "from sklearn.ensemble import RandomForestClassifier\n",
    "from sklearn.svm.libsvm import predict_proba\n",
    "from sklearn.model_selection import GridSearchCV\n",
    "from sklearn.metrics import roc_curve"
   ]
  },
  {
   "cell_type": "code",
   "execution_count": 2,
   "metadata": {},
   "outputs": [
    {
     "name": "stdout",
     "output_type": "stream",
     "text": [
      "----- Rows -----\n",
      "Courses     :  22\n",
      "Assessments :  206\n",
      "vle(Virtual Learning Environment) :  6364\n",
      "Student Info         :  32593\n",
      "student Assessment   :  173912\n",
      "student Registration :  32593\n",
      "student Vle          :  10655280\n"
     ]
    }
   ],
   "source": [
    "# Reading Data\n",
    "student_info = pd.read_csv('../data/studentInfo.csv')\n",
    "student_assessment = pd.read_csv('../data/studentAssessment.csv')\n",
    "student_registration = pd.read_csv('../data/studentRegistration.csv')\n",
    "student_vle = pd.read_csv('../data/studentVle.csv')\n",
    "assessments = pd.read_csv('../data/assessments.csv')\n",
    "courses = pd.read_csv('../data/courses.csv')\n",
    "vle = pd.read_csv('../data/vle.csv')\n",
    "\n",
    "#check for the data\n",
    "print('----- Rows -----')\n",
    "print('Courses     : ',courses.shape[0])\n",
    "print('Assessments : ',assessments.shape[0])\n",
    "print('vle(Virtual Learning Environment) : ',vle.shape[0])\n",
    "print('Student Info         : ',student_info.shape[0])\n",
    "print('student Assessment   : ',student_assessment.shape[0])\n",
    "print('student Registration : ',student_registration.shape[0])\n",
    "print('student Vle          : ',student_vle.shape[0])"
   ]
  },
  {
   "cell_type": "code",
   "execution_count": null,
   "metadata": {},
   "outputs": [],
   "source": []
  }
 ],
 "metadata": {
  "kernelspec": {
   "display_name": "Python 3",
   "language": "python",
   "name": "python3"
  },
  "language_info": {
   "codemirror_mode": {
    "name": "ipython",
    "version": 3
   },
   "file_extension": ".py",
   "mimetype": "text/x-python",
   "name": "python",
   "nbconvert_exporter": "python",
   "pygments_lexer": "ipython3",
   "version": "3.6.8"
  }
 },
 "nbformat": 4,
 "nbformat_minor": 2
}
